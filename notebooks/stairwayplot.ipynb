{
 "cells": [
  {
   "cell_type": "code",
   "execution_count": null,
   "metadata": {},
   "outputs": [],
   "source": [
    "# Setup env\n",
    "import malariagen_data\n",
    "import allel\n",
    "import numpy as np"
   ]
  },
  {
   "cell_type": "code",
   "execution_count": null,
   "metadata": {},
   "outputs": [],
   "source": [
    "# Load Af1\n",
    "af1 = malariagen_data.Af1(pre=True, results_cache='data_cache')"
   ]
  },
  {
   "cell_type": "code",
   "execution_count": null,
   "metadata": {},
   "outputs": [],
   "source": [
    "# Define useful variables\n",
    "samples_ex = ['VBS24020','VBS24012','VBS24015', 'VBS81452', 'VBS85481', 'VBS81453', 'VBS82192', 'VBS85504', 'VBS85514']\n",
    "analysis_region = '2RL: 57,604,655-90,000,000'\n",
    "numgenos = 100_000\n",
    "\n",
    "sample_sets_tz='1236-VO-TZ-OKUMU-OKFR-TZ-2008', '1236-VO-TZ-OKUMU-VMF00248','1236-VO-TZ-OKUMU-VMF00252','1236-VO-TZ-OKUMU-VMF00261','1236-VO-TZ-OKUMU-VMF00090'\n"
   ]
  },
  {
   "cell_type": "code",
   "execution_count": null,
   "metadata": {},
   "outputs": [],
   "source": [
    "#by rift location\n",
    "rift_west = ['Mwanza', 'Kagera', 'Katavi', 'Kigoma']\n",
    "rift_east = ['Pwani', 'Morogoro', 'Tanga', 'Ruvuma', 'Dodoma', 'Lindi', 'Mtwara']\n",
    "\n",
    "# span\n",
    "region = '2RL: 57,604,655-90,000,000'\n",
    "query_east = f\"taxon == 'funestus' & admin1_name == {rift_east} \"\n",
    "query_west = f\"taxon == 'funestus' & admin1_name == {rift_west} \""
   ]
  },
  {
   "cell_type": "code",
   "execution_count": null,
   "metadata": {},
   "outputs": [],
   "source": [
    "# Function to generate folded 1d sfs from malariagen_data\n",
    "def output_sfs(\n",
    "        region,\n",
    "        sample_sets,\n",
    "        sample_query,\n",
    "                ):\n",
    "        \n",
    "        nsamples = af1.sample_metadata(sample_sets=sample_sets, sample_query=sample_query).shape[0]\n",
    "        ac = af1.snp_allele_counts(region=region, sample_sets=sample_sets, sample_query = sample_query)\n",
    "        minor_ac = ac[:,1:4].sum(axis=1) # Count derived alleles\n",
    "        is_mac = minor_ac > 1 # Mac mask\n",
    "        min_ac = minor_ac.compress(is_mac) #filter minor allel count on mac\n",
    "        maj_ac = ac[:,0].compress(is_mac) #filter major allele count on mac\n",
    "        ac = np.c_[maj_ac, min_ac] #combine filtered majorminor\n",
    "        sfs_fold = allel.sfs_folded(ac, n=(nsamples*2)) #Compute SFS\n",
    "\n",
    "        return(sfs_fold)\n",
    "\n"
   ]
  },
  {
   "cell_type": "code",
   "execution_count": null,
   "metadata": {},
   "outputs": [],
   "source": [
    "sfs_west = output_sfs(region=region, sample_sets=sample_sets_tz, sample_query=query_west)\n",
    "sfs_east = output_sfs(region=region, sample_sets=sample_sets_tz, sample_query=query_east)\n"
   ]
  }
 ],
 "metadata": {
  "kernelspec": {
   "display_name": "malariagen_plink",
   "language": "python",
   "name": "python3"
  },
  "language_info": {
   "codemirror_mode": {
    "name": "ipython",
    "version": 3
   },
   "file_extension": ".py",
   "mimetype": "text/x-python",
   "name": "python",
   "nbconvert_exporter": "python",
   "pygments_lexer": "ipython3",
   "version": "3.12.5"
  }
 },
 "nbformat": 4,
 "nbformat_minor": 2
}
